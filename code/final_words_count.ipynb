{
 "cells": [
  {
   "cell_type": "code",
   "execution_count": 1,
   "id": "0170d1ad",
   "metadata": {},
   "outputs": [],
   "source": [
    "import numpy as np\n",
    "import pandas as pd"
   ]
  },
  {
   "cell_type": "code",
   "execution_count": 2,
   "id": "585aaa4f",
   "metadata": {},
   "outputs": [
    {
     "name": "stdout",
     "output_type": "stream",
     "text": [
      "(226, 57)\n",
      "(279, 58)\n"
     ]
    }
   ],
   "source": [
    "att_close = pd.read_csv(\"PA_close_new.csv\")\n",
    "att_open = pd.read_csv(\"PA_open_new.csv\")\n",
    "print(att_close.shape)\n",
    "print(att_open.shape)"
   ]
  },
  {
   "cell_type": "code",
   "execution_count": 3,
   "id": "f19e075e",
   "metadata": {},
   "outputs": [],
   "source": [
    "li = ['business_id', 'latitude', 'longitude', 'RestaurantsPriceRange2']\n",
    "new_close = att_close.loc[:,li]\n",
    "new_open = att_open.loc[:,li]"
   ]
  },
  {
   "cell_type": "code",
   "execution_count": 4,
   "id": "ab5cb13a",
   "metadata": {},
   "outputs": [
    {
     "data": {
      "text/plain": [
       "(505, 4)"
      ]
     },
     "execution_count": 4,
     "metadata": {},
     "output_type": "execute_result"
    }
   ],
   "source": [
    "df_combined = pd.concat([new_close, new_open])\n",
    "df_combined.shape"
   ]
  },
  {
   "cell_type": "code",
   "execution_count": 5,
   "id": "c12cd951",
   "metadata": {},
   "outputs": [
    {
     "data": {
      "text/plain": [
       "<bound method NDFrame.head of                 business_id   latitude  longitude  RestaurantsPriceRange2\n",
       "0    MTSW4McQd7CbVtyjqoe9mw  39.955505 -75.155564                     2.0\n",
       "1    MyE_zdul_JO-dOHOug4GQQ  40.119713 -75.009710                     2.0\n",
       "2    JomDoQafikclSVVCPkWjnA  39.947960 -75.221980                     1.0\n",
       "3    EraDGJAHjf5IaA9VBGepfg  40.012014 -75.189067                     1.0\n",
       "4    0346ZLBXCnsGief7r2kmQQ  39.962145 -75.154230                     2.0\n",
       "..                      ...        ...        ...                     ...\n",
       "274  hUmHwBQtGg0iH-PZakQJDw  39.971709 -75.135062                     3.0\n",
       "275  y8gjlpJA89qDRCLC0JQaew  39.950500 -75.166696                     2.0\n",
       "276  oZzN706lKoL4faaTK739xA  39.940324 -75.149300                     4.0\n",
       "277  bmJgvpuf2GBXd62ELK0Q2w  39.967551 -75.177122                     1.0\n",
       "278  wVxXRFf10zTTAs11nr4xeA  40.032483 -75.214430                     2.0\n",
       "\n",
       "[505 rows x 4 columns]>"
      ]
     },
     "execution_count": 5,
     "metadata": {},
     "output_type": "execute_result"
    }
   ],
   "source": [
    "df_combined.head"
   ]
  },
  {
   "cell_type": "code",
   "execution_count": 6,
   "id": "fe9ba886",
   "metadata": {},
   "outputs": [],
   "source": [
    "longitude_1 = 39.92\n",
    "longitude_2 = 39.97\n",
    "latitude_1 = -75.22\n",
    "latitude_2 = -75.11\n",
    "\n",
    "# def in_center(lo, la, price ):\n",
    "\n",
    "#     if (la > longitude_1 and la < longitude_2  and lo > latitude_1 and lo < latitude_2):\n",
    "#         if  price >2.5:\n",
    "#         return True\n",
    "#     else:\n",
    "#         return False"
   ]
  },
  {
   "cell_type": "code",
   "execution_count": 7,
   "id": "45881c9b",
   "metadata": {},
   "outputs": [
    {
     "data": {
      "text/plain": [
       "array([ 1.,  2.,  3.,  4., nan])"
      ]
     },
     "execution_count": 7,
     "metadata": {},
     "output_type": "execute_result"
    }
   ],
   "source": [
    "np.unique(att_close.RestaurantsPriceRange2)"
   ]
  },
  {
   "cell_type": "code",
   "execution_count": 8,
   "id": "31047e2f",
   "metadata": {},
   "outputs": [],
   "source": [
    "center_high = []\n",
    "center_low = []\n",
    "nocen_high = []\n",
    "nocen_low = []\n",
    "df_combined = df_combined.dropna(subset=['RestaurantsPriceRange2'])\n",
    "for i in range(np.shape(df_combined)[0]):\n",
    "    lo = df_combined.iloc[i,2]\n",
    "    la = df_combined.iloc[i,1]\n",
    "    if (la > longitude_1 and la < longitude_2  and lo > latitude_1 and lo < latitude_2):\n",
    "        if  df_combined.iloc[i,3] >2.5:\n",
    "            center_high.append(df_combined.iloc[i,0])\n",
    "        else:\n",
    "            center_low.append(df_combined.iloc[i,0])\n",
    "            \n",
    "    else:\n",
    "        if  df_combined.iloc[i,3] >2.5:\n",
    "            nocen_high.append(df_combined.iloc[i,0])\n",
    "        else:\n",
    "            nocen_low.append(df_combined.iloc[i,0])\n",
    "            \n",
    "            "
   ]
  },
  {
   "cell_type": "code",
   "execution_count": 9,
   "id": "ba6e1752",
   "metadata": {},
   "outputs": [],
   "source": [
    "## read in review"
   ]
  },
  {
   "cell_type": "code",
   "execution_count": 10,
   "id": "316db160",
   "metadata": {},
   "outputs": [],
   "source": [
    "import json\n",
    "import nltk\n",
    "from nltk.corpus import stopwords\n",
    "from sklearn.feature_extraction.text import TfidfVectorizer\n",
    "from sklearn.model_selection import train_test_split\n",
    "from sklearn.naive_bayes import MultinomialNB\n",
    "from sklearn.metrics import classification_report\n",
    "from collections import Counter"
   ]
  },
  {
   "cell_type": "code",
   "execution_count": 11,
   "id": "54e026e6",
   "metadata": {},
   "outputs": [
    {
     "name": "stderr",
     "output_type": "stream",
     "text": [
      "[nltk_data] Downloading package stopwords to\n",
      "[nltk_data]     C:\\Users\\THINK\\AppData\\Roaming\\nltk_data...\n",
      "[nltk_data]   Package stopwords is already up-to-date!\n",
      "[nltk_data] Downloading package punkt to\n",
      "[nltk_data]     C:\\Users\\THINK\\AppData\\Roaming\\nltk_data...\n",
      "[nltk_data]   Package punkt is already up-to-date!\n"
     ]
    },
    {
     "data": {
      "text/plain": [
       "True"
      ]
     },
     "execution_count": 11,
     "metadata": {},
     "output_type": "execute_result"
    }
   ],
   "source": [
    "nltk.download('stopwords')\n",
    "nltk.download('punkt')"
   ]
  },
  {
   "cell_type": "code",
   "execution_count": 12,
   "id": "606c3f54",
   "metadata": {},
   "outputs": [],
   "source": [
    "data_re= []\n",
    "\n",
    "with open('review.json', 'r', encoding='utf-8') as f:\n",
    "    for line in f:\n",
    "        data = json.loads(line)\n",
    "        data_re.append(data)\n",
    "\n",
    "review = pd.DataFrame(data_re)"
   ]
  },
  {
   "cell_type": "markdown",
   "id": "22e8539b",
   "metadata": {},
   "source": [
    "center_high = center_high.tolist()\n",
    "center_low = center_low.tolist()\n",
    "nocen_high = nocen_high.tolist()\n",
    "nocen_low = nocen_low.tolist()"
   ]
  },
  {
   "cell_type": "code",
   "execution_count": 13,
   "id": "f3c2b835",
   "metadata": {},
   "outputs": [],
   "source": [
    "review_business_id = review[\"business_id\"]\n",
    "review_ch = []\n",
    "review_cl = []\n",
    "review_nh = []\n",
    "review_nl = []\n",
    "\n",
    "\n",
    "\n",
    "for i in range(len(review_business_id)):\n",
    "    if review_business_id[i] in center_high:\n",
    "        review_ch.append(i)\n",
    "    elif review_business_id[i] in center_low:\n",
    "        review_cl.append(i)\n",
    "    elif review_business_id[i] in nocen_high:\n",
    "        review_nh.append(i)\n",
    "    elif review_business_id[i] in nocen_low:\n",
    "        review_nl.append(i)"
   ]
  },
  {
   "cell_type": "code",
   "execution_count": 14,
   "id": "84ac2125",
   "metadata": {},
   "outputs": [],
   "source": [
    "PA_ch = review.iloc[review_ch,]\n",
    "PA_cl = review.iloc[review_cl,]\n",
    "PA_nh = review.iloc[review_nh,]\n",
    "PA_nl = review.iloc[review_nl,]"
   ]
  },
  {
   "cell_type": "code",
   "execution_count": 17,
   "id": "cdd15c6e",
   "metadata": {},
   "outputs": [],
   "source": [
    "english_stopwords = stopwords.words('english')\n",
    "\n",
    "def nlp_text(dataframe):\n",
    "    dataframe[\"text\"] = dataframe[\"text\"].str.lower()  # lower case\n",
    "    dataframe[\"text\"] = dataframe[\"text\"].str.replace('[^\\w\\s]', '') # drop off the Punctuation mark\n",
    "    \n",
    "    # create the token\n",
    "    token = dataframe[\"text\"].apply(nltk.word_tokenize)\n",
    "    \n",
    "    stop = set(stopwords.words('english'))\n",
    "    result = token.apply(lambda x: [item for item in x if item not in stop])\n",
    "    return result\n"
   ]
  },
  {
   "cell_type": "markdown",
   "id": "4f0eb54f",
   "metadata": {},
   "source": [
    "#### PA_ch"
   ]
  },
  {
   "cell_type": "code",
   "execution_count": 15,
   "id": "b07563de",
   "metadata": {},
   "outputs": [],
   "source": [
    "PA_ch_1 = PA_ch[PA_ch['stars'] == 1.0]\n",
    "PA_ch_2 = PA_ch[PA_ch['stars'] == 2.0]\n",
    "PA_ch_3 = PA_ch[PA_ch['stars'] == 3.0]\n",
    "PA_ch_4 = PA_ch[PA_ch['stars'] == 4.0]\n",
    "PA_ch_5 = PA_ch[PA_ch['stars'] == 5.0]\n",
    "PA_ch_star = [PA_ch_1, PA_ch_2, PA_ch_3,PA_ch_4 ,PA_ch_5]\n",
    "\n",
    "PA_ch_words = {}\n",
    "\n",
    "\n",
    "for i, df in enumerate(PA_ch_star):\n",
    "    all_words = [word for sublist in nlp_text(df) for word in sublist]\n",
    "    word_counts = Counter(all_words)\n",
    "    PA_ch_words[f'star{i+1}'] = word_counts "
   ]
  },
  {
   "cell_type": "code",
   "execution_count": 18,
   "id": "2eed74e1",
   "metadata": {},
   "outputs": [
    {
     "name": "stderr",
     "output_type": "stream",
     "text": [
      "C:\\Users\\THINK\\AppData\\Local\\Temp\\ipykernel_10348\\1937035396.py:4: SettingWithCopyWarning: \n",
      "A value is trying to be set on a copy of a slice from a DataFrame.\n",
      "Try using .loc[row_indexer,col_indexer] = value instead\n",
      "\n",
      "See the caveats in the documentation: https://pandas.pydata.org/pandas-docs/stable/user_guide/indexing.html#returning-a-view-versus-a-copy\n",
      "  dataframe[\"text\"] = dataframe[\"text\"].str.lower()  # lower case\n",
      "C:\\Users\\THINK\\AppData\\Local\\Temp\\ipykernel_10348\\1937035396.py:5: FutureWarning: The default value of regex will change from True to False in a future version.\n",
      "  dataframe[\"text\"] = dataframe[\"text\"].str.replace('[^\\w\\s]', '') # drop off the Punctuation mark\n",
      "C:\\Users\\THINK\\AppData\\Local\\Temp\\ipykernel_10348\\1937035396.py:5: SettingWithCopyWarning: \n",
      "A value is trying to be set on a copy of a slice from a DataFrame.\n",
      "Try using .loc[row_indexer,col_indexer] = value instead\n",
      "\n",
      "See the caveats in the documentation: https://pandas.pydata.org/pandas-docs/stable/user_guide/indexing.html#returning-a-view-versus-a-copy\n",
      "  dataframe[\"text\"] = dataframe[\"text\"].str.replace('[^\\w\\s]', '') # drop off the Punctuation mark\n"
     ]
    }
   ],
   "source": [
    "PA_ch_words = {}\n",
    "\n",
    "\n",
    "for i, df in enumerate(PA_ch_star):\n",
    "    all_words = [word for sublist in nlp_text(df) for word in sublist]\n",
    "    word_counts = Counter(all_words)\n",
    "    PA_ch_words[f'star{i+1}'] = word_counts \n"
   ]
  },
  {
   "cell_type": "code",
   "execution_count": 32,
   "id": "2743cd07",
   "metadata": {},
   "outputs": [],
   "source": [
    "PA_ch_df = pd.DataFrame.from_dict(PA_ch_words, orient='index').fillna(0).T"
   ]
  },
  {
   "cell_type": "code",
   "execution_count": 33,
   "id": "418be476",
   "metadata": {},
   "outputs": [
    {
     "data": {
      "text/plain": [
       "(25852, 5)"
      ]
     },
     "execution_count": 33,
     "metadata": {},
     "output_type": "execute_result"
    }
   ],
   "source": [
    "PA_ch_df.shape"
   ]
  },
  {
   "cell_type": "markdown",
   "id": "f1c8e421",
   "metadata": {},
   "source": [
    "#### PA_cl"
   ]
  },
  {
   "cell_type": "code",
   "execution_count": 29,
   "id": "2872c73f",
   "metadata": {},
   "outputs": [
    {
     "name": "stderr",
     "output_type": "stream",
     "text": [
      "C:\\Users\\THINK\\AppData\\Local\\Temp\\ipykernel_10348\\1937035396.py:4: SettingWithCopyWarning: \n",
      "A value is trying to be set on a copy of a slice from a DataFrame.\n",
      "Try using .loc[row_indexer,col_indexer] = value instead\n",
      "\n",
      "See the caveats in the documentation: https://pandas.pydata.org/pandas-docs/stable/user_guide/indexing.html#returning-a-view-versus-a-copy\n",
      "  dataframe[\"text\"] = dataframe[\"text\"].str.lower()  # lower case\n",
      "C:\\Users\\THINK\\AppData\\Local\\Temp\\ipykernel_10348\\1937035396.py:5: FutureWarning: The default value of regex will change from True to False in a future version.\n",
      "  dataframe[\"text\"] = dataframe[\"text\"].str.replace('[^\\w\\s]', '') # drop off the Punctuation mark\n",
      "C:\\Users\\THINK\\AppData\\Local\\Temp\\ipykernel_10348\\1937035396.py:5: SettingWithCopyWarning: \n",
      "A value is trying to be set on a copy of a slice from a DataFrame.\n",
      "Try using .loc[row_indexer,col_indexer] = value instead\n",
      "\n",
      "See the caveats in the documentation: https://pandas.pydata.org/pandas-docs/stable/user_guide/indexing.html#returning-a-view-versus-a-copy\n",
      "  dataframe[\"text\"] = dataframe[\"text\"].str.replace('[^\\w\\s]', '') # drop off the Punctuation mark\n"
     ]
    }
   ],
   "source": [
    "PA_cl_1 = PA_cl[PA_cl['stars'] == 1.0]\n",
    "PA_cl_2 = PA_cl[PA_cl['stars'] == 2.0]\n",
    "PA_cl_3 = PA_cl[PA_cl['stars'] == 3.0]\n",
    "PA_cl_4 = PA_cl[PA_cl['stars'] == 4.0]\n",
    "PA_cl_5 = PA_cl[PA_cl['stars'] == 5.0]\n",
    "PA_cl_star = [PA_cl_1, PA_cl_2, PA_cl_3,PA_cl_4 ,PA_cl_5]\n",
    "\n",
    "PA_cl_words = {}\n",
    "\n",
    "\n",
    "for i, df in enumerate(PA_cl_star):\n",
    "    all_words = [word for sublist in nlp_text(df) for word in sublist]\n",
    "    word_counts = Counter(all_words)\n",
    "    PA_cl_words[f'star{i+1}'] = word_counts \n",
    "    \n",
    "    \n",
    "PA_cl_df = pd.DataFrame.from_dict(PA_cl_words, orient='index').fillna(0).T"
   ]
  },
  {
   "cell_type": "code",
   "execution_count": 31,
   "id": "efd9fcbe",
   "metadata": {},
   "outputs": [
    {
     "data": {
      "text/plain": [
       "(62932, 5)"
      ]
     },
     "execution_count": 31,
     "metadata": {},
     "output_type": "execute_result"
    }
   ],
   "source": [
    "PA_cl_df.shape"
   ]
  },
  {
   "cell_type": "markdown",
   "id": "0b5f2ed8",
   "metadata": {},
   "source": [
    "#### PA_nh"
   ]
  },
  {
   "cell_type": "code",
   "execution_count": 37,
   "id": "76f6f6b8",
   "metadata": {},
   "outputs": [
    {
     "name": "stderr",
     "output_type": "stream",
     "text": [
      "C:\\Users\\THINK\\AppData\\Local\\Temp\\ipykernel_10348\\1937035396.py:4: SettingWithCopyWarning: \n",
      "A value is trying to be set on a copy of a slice from a DataFrame.\n",
      "Try using .loc[row_indexer,col_indexer] = value instead\n",
      "\n",
      "See the caveats in the documentation: https://pandas.pydata.org/pandas-docs/stable/user_guide/indexing.html#returning-a-view-versus-a-copy\n",
      "  dataframe[\"text\"] = dataframe[\"text\"].str.lower()  # lower case\n",
      "C:\\Users\\THINK\\AppData\\Local\\Temp\\ipykernel_10348\\1937035396.py:5: FutureWarning: The default value of regex will change from True to False in a future version.\n",
      "  dataframe[\"text\"] = dataframe[\"text\"].str.replace('[^\\w\\s]', '') # drop off the Punctuation mark\n",
      "C:\\Users\\THINK\\AppData\\Local\\Temp\\ipykernel_10348\\1937035396.py:5: SettingWithCopyWarning: \n",
      "A value is trying to be set on a copy of a slice from a DataFrame.\n",
      "Try using .loc[row_indexer,col_indexer] = value instead\n",
      "\n",
      "See the caveats in the documentation: https://pandas.pydata.org/pandas-docs/stable/user_guide/indexing.html#returning-a-view-versus-a-copy\n",
      "  dataframe[\"text\"] = dataframe[\"text\"].str.replace('[^\\w\\s]', '') # drop off the Punctuation mark\n"
     ]
    }
   ],
   "source": [
    "PA_nh_1 = PA_nh[PA_nh['stars'] == 1.0]\n",
    "PA_nh_2 = PA_nh[PA_nh['stars'] == 2.0]\n",
    "PA_nh_3 = PA_nh[PA_nh['stars'] == 3.0]\n",
    "PA_nh_4 = PA_nh[PA_nh['stars'] == 4.0]\n",
    "PA_nh_5 = PA_nh[PA_nh['stars'] == 5.0]\n",
    "PA_nh_star = [PA_nh_1, PA_nh_2, PA_nh_3,PA_nh_4 ,PA_nh_5]\n",
    "\n",
    "from collections import Counter\n",
    "\n",
    "PA_nh_words = {}\n",
    "\n",
    "\n",
    "for i, df in enumerate(PA_nh_star):\n",
    "    all_words = [word for sublist in nlp_text(df) for word in sublist]\n",
    "    word_counts = Counter(all_words)\n",
    "    PA_nh_words[f'star{i+1}'] = word_counts \n",
    "    \n",
    "    \n",
    "PA_nh_df = pd.DataFrame.from_dict(PA_nh_words, orient='index').fillna(0).T"
   ]
  },
  {
   "cell_type": "code",
   "execution_count": 38,
   "id": "166359f9",
   "metadata": {},
   "outputs": [
    {
     "data": {
      "text/plain": [
       "(10911, 5)"
      ]
     },
     "execution_count": 38,
     "metadata": {},
     "output_type": "execute_result"
    }
   ],
   "source": [
    "PA_nh_df.shape"
   ]
  },
  {
   "cell_type": "markdown",
   "id": "efbfa89e",
   "metadata": {},
   "source": [
    "#### PA_nl"
   ]
  },
  {
   "cell_type": "code",
   "execution_count": 34,
   "id": "58247599",
   "metadata": {},
   "outputs": [
    {
     "name": "stderr",
     "output_type": "stream",
     "text": [
      "C:\\Users\\THINK\\AppData\\Local\\Temp\\ipykernel_10348\\1937035396.py:4: SettingWithCopyWarning: \n",
      "A value is trying to be set on a copy of a slice from a DataFrame.\n",
      "Try using .loc[row_indexer,col_indexer] = value instead\n",
      "\n",
      "See the caveats in the documentation: https://pandas.pydata.org/pandas-docs/stable/user_guide/indexing.html#returning-a-view-versus-a-copy\n",
      "  dataframe[\"text\"] = dataframe[\"text\"].str.lower()  # lower case\n",
      "C:\\Users\\THINK\\AppData\\Local\\Temp\\ipykernel_10348\\1937035396.py:5: FutureWarning: The default value of regex will change from True to False in a future version.\n",
      "  dataframe[\"text\"] = dataframe[\"text\"].str.replace('[^\\w\\s]', '') # drop off the Punctuation mark\n",
      "C:\\Users\\THINK\\AppData\\Local\\Temp\\ipykernel_10348\\1937035396.py:5: SettingWithCopyWarning: \n",
      "A value is trying to be set on a copy of a slice from a DataFrame.\n",
      "Try using .loc[row_indexer,col_indexer] = value instead\n",
      "\n",
      "See the caveats in the documentation: https://pandas.pydata.org/pandas-docs/stable/user_guide/indexing.html#returning-a-view-versus-a-copy\n",
      "  dataframe[\"text\"] = dataframe[\"text\"].str.replace('[^\\w\\s]', '') # drop off the Punctuation mark\n"
     ]
    }
   ],
   "source": [
    "PA_nl_1 = PA_nl[PA_nl['stars'] == 1.0]\n",
    "PA_nl_2 = PA_nl[PA_nl['stars'] == 2.0]\n",
    "PA_nl_3 = PA_nl[PA_nl['stars'] == 3.0]\n",
    "PA_nl_4 = PA_nl[PA_nl['stars'] == 4.0]\n",
    "PA_nl_5 = PA_nl[PA_nl['stars'] == 5.0]\n",
    "PA_nl_star = [PA_nl_1, PA_nl_2, PA_nl_3,PA_nl_4 ,PA_nl_5]\n",
    "\n",
    "from collections import Counter\n",
    "\n",
    "PA_nl_words = {}\n",
    "\n",
    "\n",
    "for i, df in enumerate(PA_nl_star):\n",
    "    all_words = [word for sublist in nlp_text(df) for word in sublist]\n",
    "    word_counts = Counter(all_words)\n",
    "    PA_nl_words[f'star{i+1}'] = word_counts \n",
    "    \n",
    "    \n",
    "PA_nl_df = pd.DataFrame.from_dict(PA_nl_words, orient='index').fillna(0).T"
   ]
  },
  {
   "cell_type": "code",
   "execution_count": 35,
   "id": "4669d595",
   "metadata": {},
   "outputs": [
    {
     "data": {
      "text/plain": [
       "(24389, 5)"
      ]
     },
     "execution_count": 35,
     "metadata": {},
     "output_type": "execute_result"
    }
   ],
   "source": [
    "PA_nl_df.shape"
   ]
  },
  {
   "cell_type": "markdown",
   "id": "db6993ef",
   "metadata": {},
   "source": [
    "#### write into csv"
   ]
  },
  {
   "cell_type": "code",
   "execution_count": 39,
   "id": "81405d6c",
   "metadata": {},
   "outputs": [],
   "source": [
    "PA_ch_df.to_csv('PA_ch_df.csv', index = True)\n",
    "PA_cl_df.to_csv('PA_cl_df.csv', index = True)\n",
    "PA_nh_df.to_csv('PA_nh_df.csv', index = True)\n",
    "PA_nl_df.to_csv('PA_nl_df.csv', index = True)"
   ]
  },
  {
   "cell_type": "code",
   "execution_count": null,
   "id": "e31c5f39",
   "metadata": {},
   "outputs": [],
   "source": []
  }
 ],
 "metadata": {
  "kernelspec": {
   "display_name": "Python 3 (ipykernel)",
   "language": "python",
   "name": "python3"
  },
  "language_info": {
   "codemirror_mode": {
    "name": "ipython",
    "version": 3
   },
   "file_extension": ".py",
   "mimetype": "text/x-python",
   "name": "python",
   "nbconvert_exporter": "python",
   "pygments_lexer": "ipython3",
   "version": "3.11.4"
  }
 },
 "nbformat": 4,
 "nbformat_minor": 5
}
