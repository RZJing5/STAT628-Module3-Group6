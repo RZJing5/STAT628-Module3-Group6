{
 "cells": [
  {
   "cell_type": "code",
   "execution_count": 1,
   "id": "72ab6f18",
   "metadata": {},
   "outputs": [],
   "source": [
    "import json\n",
    "import pandas as pd\n",
    "import numpy as np"
   ]
  },
  {
   "cell_type": "code",
   "execution_count": 2,
   "id": "88f586b2",
   "metadata": {},
   "outputs": [
    {
     "name": "stdout",
     "output_type": "stream",
     "text": [
      "(226, 57)\n",
      "(279, 58)\n"
     ]
    }
   ],
   "source": [
    "att_close = pd.read_csv(\"PA_close_new.csv\")\n",
    "att_open = pd.read_csv(\"PA_open_new.csv\")\n",
    "print(att_close.shape)\n",
    "print(att_open.shape)"
   ]
  },
  {
   "cell_type": "code",
   "execution_count": 3,
   "id": "ba534a21",
   "metadata": {},
   "outputs": [],
   "source": [
    "li = ['business_id', 'latitude', 'longitude', 'RestaurantsPriceRange2']\n",
    "new_close = att_close.loc[:,li]\n",
    "new_open = att_open.loc[:,li]"
   ]
  },
  {
   "cell_type": "code",
   "execution_count": 4,
   "id": "bb5579c2",
   "metadata": {},
   "outputs": [
    {
     "data": {
      "text/plain": [
       "(505, 4)"
      ]
     },
     "execution_count": 4,
     "metadata": {},
     "output_type": "execute_result"
    }
   ],
   "source": [
    "df_combined = pd.concat([new_close, new_open])\n",
    "df_combined.shape"
   ]
  },
  {
   "cell_type": "code",
   "execution_count": 5,
   "id": "df022f65",
   "metadata": {},
   "outputs": [],
   "source": [
    "longitude_1 = 39.92\n",
    "longitude_2 = 39.97\n",
    "latitude_1 = -75.22\n",
    "latitude_2 = -75.11\n"
   ]
  },
  {
   "cell_type": "code",
   "execution_count": 6,
   "id": "f478ad9c",
   "metadata": {},
   "outputs": [
    {
     "data": {
      "text/plain": [
       "array([ 1.,  2.,  3.,  4., nan])"
      ]
     },
     "execution_count": 6,
     "metadata": {},
     "output_type": "execute_result"
    }
   ],
   "source": [
    "np.unique(att_close.RestaurantsPriceRange2)"
   ]
  },
  {
   "cell_type": "code",
   "execution_count": 7,
   "id": "3cb26f38",
   "metadata": {},
   "outputs": [],
   "source": [
    "center_high = []\n",
    "center_low = []\n",
    "nocen_high = []\n",
    "nocen_low = []\n",
    "df_combined = df_combined.dropna(subset=['RestaurantsPriceRange2'])\n",
    "for i in range(np.shape(df_combined)[0]):\n",
    "    lo = df_combined.iloc[i,2]\n",
    "    la = df_combined.iloc[i,1]\n",
    "    if (la > longitude_1 and la < longitude_2  and lo > latitude_1 and lo < latitude_2):\n",
    "        if  df_combined.iloc[i,3] >2.5:\n",
    "            center_high.append(df_combined.iloc[i,0])\n",
    "        else:\n",
    "            center_low.append(df_combined.iloc[i,0])\n",
    "            \n",
    "    else:\n",
    "        if  df_combined.iloc[i,3] >2.5:\n",
    "            nocen_high.append(df_combined.iloc[i,0])\n",
    "        else:\n",
    "            nocen_low.append(df_combined.iloc[i,0])"
   ]
  },
  {
   "cell_type": "code",
   "execution_count": 8,
   "id": "a7eeca6e",
   "metadata": {},
   "outputs": [],
   "source": [
    "import json\n",
    "import nltk\n",
    "from nltk.corpus import stopwords\n",
    "from sklearn.feature_extraction.text import TfidfVectorizer\n",
    "from sklearn.model_selection import train_test_split\n",
    "from sklearn.naive_bayes import MultinomialNB\n",
    "from sklearn.metrics import classification_report\n",
    "from collections import Counter"
   ]
  },
  {
   "cell_type": "code",
   "execution_count": 9,
   "id": "4b6f8bda",
   "metadata": {},
   "outputs": [
    {
     "name": "stderr",
     "output_type": "stream",
     "text": [
      "[nltk_data] Downloading package stopwords to\n",
      "[nltk_data]     C:\\Users\\rzjin\\AppData\\Roaming\\nltk_data...\n",
      "[nltk_data]   Package stopwords is already up-to-date!\n",
      "[nltk_data] Downloading package punkt to\n",
      "[nltk_data]     C:\\Users\\rzjin\\AppData\\Roaming\\nltk_data...\n",
      "[nltk_data]   Package punkt is already up-to-date!\n"
     ]
    },
    {
     "data": {
      "text/plain": [
       "True"
      ]
     },
     "execution_count": 9,
     "metadata": {},
     "output_type": "execute_result"
    }
   ],
   "source": [
    "nltk.download('stopwords')\n",
    "nltk.download('punkt')"
   ]
  },
  {
   "cell_type": "code",
   "execution_count": 10,
   "id": "e55ef42f",
   "metadata": {},
   "outputs": [],
   "source": [
    "data_re= []\n",
    "\n",
    "with open('review.json', 'r', encoding='utf-8') as f:\n",
    "    for line in f:\n",
    "        data = json.loads(line)\n",
    "        data_re.append(data)\n",
    "\n",
    "review = pd.DataFrame(data_re)"
   ]
  },
  {
   "cell_type": "code",
   "execution_count": 11,
   "id": "07c1bd98",
   "metadata": {},
   "outputs": [],
   "source": [
    "review_business_id = review[\"business_id\"]\n",
    "review_ch = []\n",
    "review_cl = []\n",
    "review_nh = []\n",
    "review_nl = []\n",
    "\n",
    "\n",
    "\n",
    "for i in range(len(review_business_id)):\n",
    "    if review_business_id[i] in center_high:\n",
    "        review_ch.append(i)\n",
    "    elif review_business_id[i] in center_low:\n",
    "        review_cl.append(i)\n",
    "    elif review_business_id[i] in nocen_high:\n",
    "        review_nh.append(i)\n",
    "    elif review_business_id[i] in nocen_low:\n",
    "        review_nl.append(i)"
   ]
  },
  {
   "cell_type": "code",
   "execution_count": 12,
   "id": "5619118a",
   "metadata": {},
   "outputs": [],
   "source": [
    "PA_ch = review.iloc[review_ch,]\n",
    "PA_cl = review.iloc[review_cl,]\n",
    "PA_nh = review.iloc[review_nh,]\n",
    "PA_nl = review.iloc[review_nl,]"
   ]
  },
  {
   "cell_type": "code",
   "execution_count": 13,
   "id": "843d272d",
   "metadata": {},
   "outputs": [],
   "source": [
    "service_words = [\"attitude\", \"service\", \"staff\", \"waiter\", \"manager\", \"host\", \"friendly\", \"waitress\", \"attentive\"]\n",
    "location_words = [\"convenient\",\"location\",\"nearby\",\"parking\",\"central\",\"accessible\",\"remote\",\"takeout\"]\n",
    "environment_words = [\"atmosphere\",\"decor\",\"clean\",\"environment\",\"ambiance\",\"noisy\",\"spacious\",\"quiet\",\"cozy\"]\n",
    "hygiene_safety_words = [\"safe\",\"sanitary\",\"untidy\",\"secure\",\"hygienic\",\"sterile\",\"orderly\",\"regulated\"]\n",
    "price_value_words = [\"budget\",\"worth\",\"overpriced\",\"expensive\",\"cheap\",\"price\",\"deal\",\"affordable\",\"value\"]"
   ]
  },
  {
   "cell_type": "code",
   "execution_count": 54,
   "id": "02d79b22",
   "metadata": {},
   "outputs": [],
   "source": [
    "csvfile = PA_nl"
   ]
  },
  {
   "cell_type": "code",
   "execution_count": 55,
   "id": "b8bcf9ce",
   "metadata": {},
   "outputs": [
    {
     "name": "stderr",
     "output_type": "stream",
     "text": [
      "C:\\Users\\rzjin\\AppData\\Local\\Temp\\ipykernel_66932\\1605387618.py:1: SettingWithCopyWarning: \n",
      "A value is trying to be set on a copy of a slice from a DataFrame.\n",
      "Try using .loc[row_indexer,col_indexer] = value instead\n",
      "\n",
      "See the caveats in the documentation: https://pandas.pydata.org/pandas-docs/stable/user_guide/indexing.html#returning-a-view-versus-a-copy\n",
      "  csvfile['service'] = csvfile['text'].str.lower().apply(lambda x: any(word in x for word in service_words))\n",
      "C:\\Users\\rzjin\\AppData\\Local\\Temp\\ipykernel_66932\\1605387618.py:2: SettingWithCopyWarning: \n",
      "A value is trying to be set on a copy of a slice from a DataFrame.\n",
      "Try using .loc[row_indexer,col_indexer] = value instead\n",
      "\n",
      "See the caveats in the documentation: https://pandas.pydata.org/pandas-docs/stable/user_guide/indexing.html#returning-a-view-versus-a-copy\n",
      "  csvfile['location'] = csvfile['text'].str.lower().apply(lambda x: any(word in x for word in location_words))\n",
      "C:\\Users\\rzjin\\AppData\\Local\\Temp\\ipykernel_66932\\1605387618.py:3: SettingWithCopyWarning: \n",
      "A value is trying to be set on a copy of a slice from a DataFrame.\n",
      "Try using .loc[row_indexer,col_indexer] = value instead\n",
      "\n",
      "See the caveats in the documentation: https://pandas.pydata.org/pandas-docs/stable/user_guide/indexing.html#returning-a-view-versus-a-copy\n",
      "  csvfile['environment'] = csvfile['text'].str.lower().apply(lambda x: any(word in x for word in environment_words))\n",
      "C:\\Users\\rzjin\\AppData\\Local\\Temp\\ipykernel_66932\\1605387618.py:4: SettingWithCopyWarning: \n",
      "A value is trying to be set on a copy of a slice from a DataFrame.\n",
      "Try using .loc[row_indexer,col_indexer] = value instead\n",
      "\n",
      "See the caveats in the documentation: https://pandas.pydata.org/pandas-docs/stable/user_guide/indexing.html#returning-a-view-versus-a-copy\n",
      "  csvfile['hygiene_safety'] = csvfile['text'].str.lower().apply(lambda x: any(word in x for word in hygiene_safety_words))\n",
      "C:\\Users\\rzjin\\AppData\\Local\\Temp\\ipykernel_66932\\1605387618.py:5: SettingWithCopyWarning: \n",
      "A value is trying to be set on a copy of a slice from a DataFrame.\n",
      "Try using .loc[row_indexer,col_indexer] = value instead\n",
      "\n",
      "See the caveats in the documentation: https://pandas.pydata.org/pandas-docs/stable/user_guide/indexing.html#returning-a-view-versus-a-copy\n",
      "  csvfile['price_value'] = csvfile['text'].str.lower().apply(lambda x: any(word in x for word in price_value_words))\n"
     ]
    }
   ],
   "source": [
    "csvfile['service'] = csvfile['text'].str.lower().apply(lambda x: any(word in x for word in service_words))\n",
    "csvfile['location'] = csvfile['text'].str.lower().apply(lambda x: any(word in x for word in location_words))\n",
    "csvfile['environment'] = csvfile['text'].str.lower().apply(lambda x: any(word in x for word in environment_words))\n",
    "csvfile['hygiene_safety'] = csvfile['text'].str.lower().apply(lambda x: any(word in x for word in hygiene_safety_words))\n",
    "csvfile['price_value'] = csvfile['text'].str.lower().apply(lambda x: any(word in x for word in price_value_words))"
   ]
  },
  {
   "cell_type": "code",
   "execution_count": 56,
   "id": "7f47ff72",
   "metadata": {},
   "outputs": [],
   "source": [
    "index_count = csvfile.groupby('stars')[['service','location','environment','hygiene_safety','price_value']].sum()"
   ]
  },
  {
   "cell_type": "code",
   "execution_count": 57,
   "id": "522c6718",
   "metadata": {},
   "outputs": [],
   "source": [
    "review_count = csvfile.groupby('stars').size()"
   ]
  },
  {
   "cell_type": "code",
   "execution_count": 58,
   "id": "bb559fea",
   "metadata": {},
   "outputs": [],
   "source": [
    "index_count['review_count']=review_count"
   ]
  },
  {
   "cell_type": "code",
   "execution_count": 59,
   "id": "bf250730",
   "metadata": {},
   "outputs": [
    {
     "data": {
      "text/html": [
       "<div>\n",
       "<style scoped>\n",
       "    .dataframe tbody tr th:only-of-type {\n",
       "        vertical-align: middle;\n",
       "    }\n",
       "\n",
       "    .dataframe tbody tr th {\n",
       "        vertical-align: top;\n",
       "    }\n",
       "\n",
       "    .dataframe thead th {\n",
       "        text-align: right;\n",
       "    }\n",
       "</style>\n",
       "<table border=\"1\" class=\"dataframe\">\n",
       "  <thead>\n",
       "    <tr style=\"text-align: right;\">\n",
       "      <th></th>\n",
       "      <th>service</th>\n",
       "      <th>location</th>\n",
       "      <th>environment</th>\n",
       "      <th>hygiene_safety</th>\n",
       "      <th>price_value</th>\n",
       "      <th>review_count</th>\n",
       "    </tr>\n",
       "    <tr>\n",
       "      <th>stars</th>\n",
       "      <th></th>\n",
       "      <th></th>\n",
       "      <th></th>\n",
       "      <th></th>\n",
       "      <th></th>\n",
       "      <th></th>\n",
       "    </tr>\n",
       "  </thead>\n",
       "  <tbody>\n",
       "    <tr>\n",
       "      <th>1.0</th>\n",
       "      <td>755</td>\n",
       "      <td>153</td>\n",
       "      <td>106</td>\n",
       "      <td>28</td>\n",
       "      <td>364</td>\n",
       "      <td>1707</td>\n",
       "    </tr>\n",
       "    <tr>\n",
       "      <th>2.0</th>\n",
       "      <td>437</td>\n",
       "      <td>112</td>\n",
       "      <td>85</td>\n",
       "      <td>11</td>\n",
       "      <td>283</td>\n",
       "      <td>969</td>\n",
       "    </tr>\n",
       "    <tr>\n",
       "      <th>3.0</th>\n",
       "      <td>522</td>\n",
       "      <td>179</td>\n",
       "      <td>175</td>\n",
       "      <td>11</td>\n",
       "      <td>380</td>\n",
       "      <td>1219</td>\n",
       "    </tr>\n",
       "    <tr>\n",
       "      <th>4.0</th>\n",
       "      <td>1082</td>\n",
       "      <td>295</td>\n",
       "      <td>404</td>\n",
       "      <td>13</td>\n",
       "      <td>810</td>\n",
       "      <td>2515</td>\n",
       "    </tr>\n",
       "    <tr>\n",
       "      <th>5.0</th>\n",
       "      <td>2026</td>\n",
       "      <td>374</td>\n",
       "      <td>641</td>\n",
       "      <td>43</td>\n",
       "      <td>1093</td>\n",
       "      <td>4473</td>\n",
       "    </tr>\n",
       "  </tbody>\n",
       "</table>\n",
       "</div>"
      ],
      "text/plain": [
       "       service  location  environment  hygiene_safety  price_value  \\\n",
       "stars                                                                \n",
       "1.0        755       153          106              28          364   \n",
       "2.0        437       112           85              11          283   \n",
       "3.0        522       179          175              11          380   \n",
       "4.0       1082       295          404              13          810   \n",
       "5.0       2026       374          641              43         1093   \n",
       "\n",
       "       review_count  \n",
       "stars                \n",
       "1.0            1707  \n",
       "2.0             969  \n",
       "3.0            1219  \n",
       "4.0            2515  \n",
       "5.0            4473  "
      ]
     },
     "execution_count": 59,
     "metadata": {},
     "output_type": "execute_result"
    }
   ],
   "source": [
    "index_count"
   ]
  },
  {
   "cell_type": "code",
   "execution_count": 60,
   "id": "14e56dae",
   "metadata": {},
   "outputs": [],
   "source": [
    "index_count.to_csv('PA_nl_df.csv', index = True)"
   ]
  },
  {
   "cell_type": "markdown",
   "id": "0059e916",
   "metadata": {},
   "source": [
    "## Dishes Count"
   ]
  },
  {
   "cell_type": "code",
   "execution_count": 61,
   "id": "3013ef0f",
   "metadata": {},
   "outputs": [],
   "source": [
    "dishes = [\"pizza\", \"cheese\", \"dessert\", \"chicken\", \"salad\", \"pasta\", \"wine\", \"soup\", \"seafood\", \"beef\"]"
   ]
  },
  {
   "cell_type": "code",
   "execution_count": 62,
   "id": "120922d0",
   "metadata": {},
   "outputs": [
    {
     "name": "stderr",
     "output_type": "stream",
     "text": [
      "C:\\Users\\rzjin\\AppData\\Local\\Temp\\ipykernel_66932\\864959041.py:1: SettingWithCopyWarning: \n",
      "A value is trying to be set on a copy of a slice from a DataFrame.\n",
      "Try using .loc[row_indexer,col_indexer] = value instead\n",
      "\n",
      "See the caveats in the documentation: https://pandas.pydata.org/pandas-docs/stable/user_guide/indexing.html#returning-a-view-versus-a-copy\n",
      "  csvfile['dishes'] = csvfile['text'].str.lower().str.split().apply(lambda x: [word for word in x if word in dishes])\n"
     ]
    }
   ],
   "source": [
    "csvfile['dishes'] = csvfile['text'].str.lower().str.split().apply(lambda x: [word for word in x if word in dishes])"
   ]
  },
  {
   "cell_type": "code",
   "execution_count": 63,
   "id": "2cbf11a2",
   "metadata": {},
   "outputs": [],
   "source": [
    "dishes_count = csvfile.groupby('stars')['dishes'].apply(lambda x: x.explode().value_counts()).unstack(fill_value=0)"
   ]
  },
  {
   "cell_type": "code",
   "execution_count": 64,
   "id": "8178c539",
   "metadata": {},
   "outputs": [],
   "source": [
    "dishes_count['review_count']=review_count"
   ]
  },
  {
   "cell_type": "code",
   "execution_count": 65,
   "id": "52098f57",
   "metadata": {},
   "outputs": [
    {
     "data": {
      "text/html": [
       "<div>\n",
       "<style scoped>\n",
       "    .dataframe tbody tr th:only-of-type {\n",
       "        vertical-align: middle;\n",
       "    }\n",
       "\n",
       "    .dataframe tbody tr th {\n",
       "        vertical-align: top;\n",
       "    }\n",
       "\n",
       "    .dataframe thead th {\n",
       "        text-align: right;\n",
       "    }\n",
       "</style>\n",
       "<table border=\"1\" class=\"dataframe\">\n",
       "  <thead>\n",
       "    <tr style=\"text-align: right;\">\n",
       "      <th></th>\n",
       "      <th>beef</th>\n",
       "      <th>cheese</th>\n",
       "      <th>chicken</th>\n",
       "      <th>dessert</th>\n",
       "      <th>pasta</th>\n",
       "      <th>pizza</th>\n",
       "      <th>salad</th>\n",
       "      <th>seafood</th>\n",
       "      <th>soup</th>\n",
       "      <th>wine</th>\n",
       "      <th>review_count</th>\n",
       "    </tr>\n",
       "    <tr>\n",
       "      <th>stars</th>\n",
       "      <th></th>\n",
       "      <th></th>\n",
       "      <th></th>\n",
       "      <th></th>\n",
       "      <th></th>\n",
       "      <th></th>\n",
       "      <th></th>\n",
       "      <th></th>\n",
       "      <th></th>\n",
       "      <th></th>\n",
       "      <th></th>\n",
       "    </tr>\n",
       "  </thead>\n",
       "  <tbody>\n",
       "    <tr>\n",
       "      <th>1.0</th>\n",
       "      <td>21</td>\n",
       "      <td>273</td>\n",
       "      <td>267</td>\n",
       "      <td>11</td>\n",
       "      <td>54</td>\n",
       "      <td>674</td>\n",
       "      <td>144</td>\n",
       "      <td>35</td>\n",
       "      <td>52</td>\n",
       "      <td>19</td>\n",
       "      <td>1707</td>\n",
       "    </tr>\n",
       "    <tr>\n",
       "      <th>2.0</th>\n",
       "      <td>14</td>\n",
       "      <td>198</td>\n",
       "      <td>227</td>\n",
       "      <td>17</td>\n",
       "      <td>58</td>\n",
       "      <td>463</td>\n",
       "      <td>120</td>\n",
       "      <td>12</td>\n",
       "      <td>22</td>\n",
       "      <td>28</td>\n",
       "      <td>969</td>\n",
       "    </tr>\n",
       "    <tr>\n",
       "      <th>3.0</th>\n",
       "      <td>24</td>\n",
       "      <td>252</td>\n",
       "      <td>240</td>\n",
       "      <td>27</td>\n",
       "      <td>54</td>\n",
       "      <td>666</td>\n",
       "      <td>145</td>\n",
       "      <td>34</td>\n",
       "      <td>43</td>\n",
       "      <td>25</td>\n",
       "      <td>1219</td>\n",
       "    </tr>\n",
       "    <tr>\n",
       "      <th>4.0</th>\n",
       "      <td>61</td>\n",
       "      <td>417</td>\n",
       "      <td>460</td>\n",
       "      <td>66</td>\n",
       "      <td>153</td>\n",
       "      <td>1355</td>\n",
       "      <td>255</td>\n",
       "      <td>101</td>\n",
       "      <td>99</td>\n",
       "      <td>89</td>\n",
       "      <td>2515</td>\n",
       "    </tr>\n",
       "    <tr>\n",
       "      <th>5.0</th>\n",
       "      <td>65</td>\n",
       "      <td>516</td>\n",
       "      <td>643</td>\n",
       "      <td>85</td>\n",
       "      <td>253</td>\n",
       "      <td>2081</td>\n",
       "      <td>294</td>\n",
       "      <td>216</td>\n",
       "      <td>104</td>\n",
       "      <td>125</td>\n",
       "      <td>4473</td>\n",
       "    </tr>\n",
       "  </tbody>\n",
       "</table>\n",
       "</div>"
      ],
      "text/plain": [
       "       beef  cheese  chicken  dessert  pasta  pizza  salad  seafood  soup  \\\n",
       "stars                                                                       \n",
       "1.0      21     273      267       11     54    674    144       35    52   \n",
       "2.0      14     198      227       17     58    463    120       12    22   \n",
       "3.0      24     252      240       27     54    666    145       34    43   \n",
       "4.0      61     417      460       66    153   1355    255      101    99   \n",
       "5.0      65     516      643       85    253   2081    294      216   104   \n",
       "\n",
       "       wine  review_count  \n",
       "stars                      \n",
       "1.0      19          1707  \n",
       "2.0      28           969  \n",
       "3.0      25          1219  \n",
       "4.0      89          2515  \n",
       "5.0     125          4473  "
      ]
     },
     "execution_count": 65,
     "metadata": {},
     "output_type": "execute_result"
    }
   ],
   "source": [
    "dishes_count"
   ]
  },
  {
   "cell_type": "code",
   "execution_count": 66,
   "id": "13e1a6af",
   "metadata": {},
   "outputs": [],
   "source": [
    "dishes_count.to_csv('PA_nl_dishes.csv', index = True)"
   ]
  },
  {
   "cell_type": "code",
   "execution_count": null,
   "id": "108fc39e",
   "metadata": {},
   "outputs": [],
   "source": []
  }
 ],
 "metadata": {
  "kernelspec": {
   "display_name": "Python 3 (ipykernel)",
   "language": "python",
   "name": "python3"
  },
  "language_info": {
   "codemirror_mode": {
    "name": "ipython",
    "version": 3
   },
   "file_extension": ".py",
   "mimetype": "text/x-python",
   "name": "python",
   "nbconvert_exporter": "python",
   "pygments_lexer": "ipython3",
   "version": "3.11.4"
  }
 },
 "nbformat": 4,
 "nbformat_minor": 5
}
