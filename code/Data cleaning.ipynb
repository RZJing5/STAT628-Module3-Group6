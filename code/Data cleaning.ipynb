{
 "cells": [
  {
   "cell_type": "code",
   "execution_count": 1,
   "id": "05e9d8fc",
   "metadata": {},
   "outputs": [],
   "source": [
    "import json\n",
    "import pandas as pd\n",
    "import numpy as np"
   ]
  },
  {
   "cell_type": "code",
   "execution_count": 2,
   "id": "952d3388",
   "metadata": {},
   "outputs": [
    {
     "name": "stdout",
     "output_type": "stream",
     "text": [
      "                   business_id                      name  \\\n",
      "0       Pns2l4eNsfO8kk83dixA6A  Abby Rappoport, LAC, CMQ   \n",
      "1       mpf3x-BjTdTEA3yCZrAYPw             The UPS Store   \n",
      "2       tUFrWirKiKi_TAnsVWINQQ                    Target   \n",
      "3       MTSW4McQd7CbVtyjqoe9mw        St Honore Pastries   \n",
      "4       mWMc6_wTdE0EUBKIGXDVfA  Perkiomen Valley Brewery   \n",
      "...                        ...                       ...   \n",
      "150341  IUQopTMmYQG-qRtBk-8QnA              Binh's Nails   \n",
      "150342  c8GjPIOTGVmIemT7j5_SyQ      Wild Birds Unlimited   \n",
      "150343  _QAMST-NrQobXduilWEqSw         Claire's Boutique   \n",
      "150344  mtGm22y5c2UHNXDFAjaPNw  Cyclery & Fitness Center   \n",
      "150345  jV_XOycEzSlTx-65W906pg                   Sic Ink   \n",
      "\n",
      "                                address           city state postal_code  \\\n",
      "0                1616 Chapala St, Ste 2  Santa Barbara    CA       93101   \n",
      "1       87 Grasso Plaza Shopping Center         Affton    MO       63123   \n",
      "2                  5255 E Broadway Blvd         Tucson    AZ       85711   \n",
      "3                           935 Race St   Philadelphia    PA       19107   \n",
      "4                         101 Walnut St     Green Lane    PA       18054   \n",
      "...                                 ...            ...   ...         ...   \n",
      "150341                3388 Gateway Blvd       Edmonton    AB     T6J 5H2   \n",
      "150342               2813 Bransford Ave      Nashville    TN       37204   \n",
      "150343           6020 E 82nd St, Ste 46   Indianapolis    IN       46250   \n",
      "150344                     2472 Troy Rd   Edwardsville    IL       62025   \n",
      "150345            238 Apollo Beach Blvd   Apollo beach    FL       33572   \n",
      "\n",
      "         latitude   longitude  stars  review_count  is_open  \\\n",
      "0       34.426679 -119.711197    5.0             7        0   \n",
      "1       38.551126  -90.335695    3.0            15        1   \n",
      "2       32.223236 -110.880452    3.5            22        0   \n",
      "3       39.955505  -75.155564    4.0            80        1   \n",
      "4       40.338183  -75.471659    4.5            13        1   \n",
      "...           ...         ...    ...           ...      ...   \n",
      "150341  53.468419 -113.492054    3.0            13        1   \n",
      "150342  36.115118  -86.766925    4.0             5        1   \n",
      "150343  39.908707  -86.065088    3.5             8        1   \n",
      "150344  38.782351  -89.950558    4.0            24        1   \n",
      "150345  27.771002  -82.394910    4.5             9        1   \n",
      "\n",
      "                                               attributes  \\\n",
      "0                           {'ByAppointmentOnly': 'True'}   \n",
      "1                  {'BusinessAcceptsCreditCards': 'True'}   \n",
      "2       {'BikeParking': 'True', 'BusinessAcceptsCredit...   \n",
      "3       {'RestaurantsDelivery': 'False', 'OutdoorSeati...   \n",
      "4       {'BusinessAcceptsCreditCards': 'True', 'Wheelc...   \n",
      "...                                                   ...   \n",
      "150341  {'ByAppointmentOnly': 'False', 'RestaurantsPri...   \n",
      "150342  {'BusinessAcceptsCreditCards': 'True', 'Restau...   \n",
      "150343  {'RestaurantsPriceRange2': '1', 'BusinessAccep...   \n",
      "150344  {'BusinessParking': '{'garage': False, 'street...   \n",
      "150345  {'WheelchairAccessible': 'True', 'BusinessAcce...   \n",
      "\n",
      "                                               categories  \\\n",
      "0       Doctors, Traditional Chinese Medicine, Naturop...   \n",
      "1       Shipping Centers, Local Services, Notaries, Ma...   \n",
      "2       Department Stores, Shopping, Fashion, Home & G...   \n",
      "3       Restaurants, Food, Bubble Tea, Coffee & Tea, B...   \n",
      "4                               Brewpubs, Breweries, Food   \n",
      "...                                                   ...   \n",
      "150341                         Nail Salons, Beauty & Spas   \n",
      "150342  Pets, Nurseries & Gardening, Pet Stores, Hobby...   \n",
      "150343  Shopping, Jewelry, Piercing, Toy Stores, Beaut...   \n",
      "150344  Fitness/Exercise Equipment, Eyewear & Optician...   \n",
      "150345  Beauty & Spas, Permanent Makeup, Piercing, Tattoo   \n",
      "\n",
      "                                                    hours  \n",
      "0                                                    None  \n",
      "1       {'Monday': '0:0-0:0', 'Tuesday': '8:0-18:30', ...  \n",
      "2       {'Monday': '8:0-22:0', 'Tuesday': '8:0-22:0', ...  \n",
      "3       {'Monday': '7:0-20:0', 'Tuesday': '7:0-20:0', ...  \n",
      "4       {'Wednesday': '14:0-22:0', 'Thursday': '16:0-2...  \n",
      "...                                                   ...  \n",
      "150341  {'Monday': '10:0-19:30', 'Tuesday': '10:0-19:3...  \n",
      "150342  {'Monday': '9:30-17:30', 'Tuesday': '9:30-17:3...  \n",
      "150343                                               None  \n",
      "150344  {'Monday': '9:0-20:0', 'Tuesday': '9:0-20:0', ...  \n",
      "150345  {'Tuesday': '12:0-19:0', 'Wednesday': '12:0-19...  \n",
      "\n",
      "[150346 rows x 14 columns]\n"
     ]
    }
   ],
   "source": [
    "data_list = []\n",
    "\n",
    "with open('business.json', 'r', encoding='utf-8') as f:\n",
    "    for line in f:\n",
    "        data = json.loads(line)\n",
    "        data_list.append(data)\n",
    "\n",
    "df = pd.DataFrame(data_list)\n",
    "\n",
    "print(df)"
   ]
  },
  {
   "cell_type": "code",
   "execution_count": 3,
   "id": "f56960be",
   "metadata": {},
   "outputs": [],
   "source": [
    "strong_tag = ['Alternative Medicine',' Cannabis Clinics',' Cannabis Dispensaries','Concierge Medicine',' Counseling & Mental Health',' Dentists',' Dermatologists','Diagnostic Services',' Doctors',' Drugstores',' Health & Medical',' Health Coach','Health Markets','Herbal Shops','Home Health Care',' Hospitals',' Internal Medicine',' Medical Centers',' Medical Supplies',' Nutritionists',' Obstetricians & Gynecologists',' Pain Management',' Pharmacy',' Psychologists',' Sleep Specialists',' Urgent Care',' Vitamins & Supplements',' Walk-in Clinics']"
   ]
  },
  {
   "cell_type": "code",
   "execution_count": 4,
   "id": "8b560e22",
   "metadata": {},
   "outputs": [
    {
     "data": {
      "text/plain": [
       "1278"
      ]
     },
     "execution_count": 4,
     "metadata": {},
     "output_type": "execute_result"
    }
   ],
   "source": [
    "def split_by_comma(input_string):\n",
    "    if pd.isna(input_string):\n",
    "        return []\n",
    "    else:\n",
    "        return [s.strip() for s in input_string.split(',')]\n",
    "\n",
    "df['split_categories'] = df['categories'].apply(split_by_comma)\n",
    "\n",
    "id = []\n",
    "for i in range(np.shape(df)[0]):\n",
    "    for j in strong_tag:\n",
    "        if j in df['split_categories'][i]:\n",
    "            id.append(i)\n",
    "        \n",
    "id = np.unique(id)\n",
    "len(id)"
   ]
  },
  {
   "cell_type": "code",
   "execution_count": 5,
   "id": "cff35972",
   "metadata": {},
   "outputs": [
    {
     "data": {
      "text/plain": [
       "Tampa             99\n",
       "Philadelphia      97\n",
       "Tucson            79\n",
       "Reno              69\n",
       "Nashville         58\n",
       "                  ..\n",
       "Oakville           1\n",
       "Terrytown          1\n",
       "Clayton            1\n",
       "Fairless Hills     1\n",
       "Mt. Juliet         1\n",
       "Name: city, Length: 211, dtype: int64"
      ]
     },
     "execution_count": 5,
     "metadata": {},
     "output_type": "execute_result"
    }
   ],
   "source": [
    "df[\"city\"][id].value_counts()"
   ]
  },
  {
   "cell_type": "code",
   "execution_count": 6,
   "id": "422d0a53",
   "metadata": {},
   "outputs": [],
   "source": [
    "PA_id = df['business_id'][id[df[\"city\"][id]=='Philadelphia']]\n",
    "PA = df.loc[id[df[\"city\"][id]=='Philadelphia']]\n",
    "PA = PA.loc[PA['is_open']==1,]"
   ]
  },
  {
   "cell_type": "code",
   "execution_count": 7,
   "id": "93ed8ef7",
   "metadata": {},
   "outputs": [],
   "source": [
    "unique_name = PA.name.value_counts()\n",
    "unique_name.to_csv('unique_name.csv', index = True)"
   ]
  }
 ],
 "metadata": {
  "kernelspec": {
   "display_name": "Python 3 (ipykernel)",
   "language": "python",
   "name": "python3"
  },
  "language_info": {
   "codemirror_mode": {
    "name": "ipython",
    "version": 3
   },
   "file_extension": ".py",
   "mimetype": "text/x-python",
   "name": "python",
   "nbconvert_exporter": "python",
   "pygments_lexer": "ipython3",
   "version": "3.9.18"
  }
 },
 "nbformat": 4,
 "nbformat_minor": 5
}
